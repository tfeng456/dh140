{
 "cells": [
  {
   "cell_type": "markdown",
   "metadata": {},
   "source": [
    "# Week 2 Individual assignment: Data Exploration\n",
    "\n",
    "## Directions\n",
    "\n",
    "* Find and download a dataset of your choice. This can be a shapefile, csv file, or json file. If you do not have a dataset, you can download one from the Los Angeles Times' \"Mapping L.A. Boundaries\" page.\n",
    "* Launch JupyterHub and pload the dataset to your JupyterHub space\n",
    "* Create a new python notebook (do not work on a copy of the lab notebook)\n",
    "* Add an introductory markdown cell with a title (header) and paragraph that describes what you are doing\n",
    "* Import the data, and conduct data exploration, making sure to document your steps and your preliminary findings. At minimum, run the following commands:\n",
    "    * .shape\n",
    "    * .info\n",
    "    * .head()\n",
    "    * .plot()\n",
    "    * .value_counts()\n",
    "    \n",
    "* run a query on the data that filters it in some way\n",
    "* For each code cell, add a markdown cell that explains what you are doing\n",
    "* Add markdown cells that describe the output of each operation\n",
    "* Add your first data exploration Jupyter Notebook to your GitHub repository"
   ]
  },
  {
   "cell_type": "markdown",
   "metadata": {},
   "source": [
    "## Introduction\n",
    "\n",
    "In this Jupyter notebook, I will be importing a dataset on **LA County Fire Department Station Areas** from a shapefile using the `geopandas` module. The dataset can be found at the [\"mapping LA boundaries\"](http://boundaries.latimes.com/sets/) page. Next, I will be exploring the data using various commands. Thorough explanations of the commands I use will be included after each code chunk."
   ]
  },
  {
   "cell_type": "markdown",
   "metadata": {},
   "source": [
    "### Importing module (geopandas) and our data"
   ]
  },
  {
   "cell_type": "code",
   "execution_count": 26,
   "metadata": {},
   "outputs": [],
   "source": [
    "# In order to read shapefiles and create maps, we will be using the module geopandas\n",
    "import geopandas as gpd"
   ]
  },
  {
   "cell_type": "markdown",
   "metadata": {},
   "source": [
    "In the above code chunk, I imported the module `geopandas` under the alias `gpd`. For more info regarding `geopandas`, I viewed the [geopandas documentation](https://geopandas.readthedocs.io/en/latest/gallery/index.html)."
   ]
  },
  {
   "cell_type": "code",
   "execution_count": 27,
   "metadata": {},
   "outputs": [],
   "source": [
    "# read in the data (our shapefile)\n",
    "firestation = gpd.read_file('Data/l.a. county fire dept. station area.shp')"
   ]
  },
  {
   "cell_type": "markdown",
   "metadata": {},
   "source": [
    "In the above chunk, I imported the shapefile dataframe under the name `firestation`. The data was from the [\"mapping LA boundaries\"](http://boundaries.latimes.com/sets/) page. I selected the dataset on **LA County Fire Department Station Areas**."
   ]
  },
  {
   "cell_type": "markdown",
   "metadata": {},
   "source": [
    "### Data exploration"
   ]
  },
  {
   "cell_type": "code",
   "execution_count": 28,
   "metadata": {},
   "outputs": [
    {
     "data": {
      "text/plain": [
       "geopandas.geodataframe.GeoDataFrame"
      ]
     },
     "execution_count": 28,
     "metadata": {},
     "output_type": "execute_result"
    }
   ],
   "source": [
    "# what's the data type?\n",
    "type(firestation)"
   ]
  },
  {
   "cell_type": "markdown",
   "metadata": {},
   "source": [
    "In the above chunk, I found out the data type of my object `firestation` using the command `type()`. It was found to be a geo dataframe."
   ]
  },
  {
   "cell_type": "code",
   "execution_count": 19,
   "metadata": {
    "scrolled": true
   },
   "outputs": [
    {
     "data": {
      "text/plain": [
       "(196, 8)"
      ]
     },
     "execution_count": 19,
     "metadata": {},
     "output_type": "execute_result"
    }
   ],
   "source": [
    "# what are the dimensions (number of rows and columns) of the dataset?\n",
    "firestation.shape"
   ]
  },
  {
   "cell_type": "markdown",
   "metadata": {},
   "source": [
    "In the above chunk, I found the dimensions of the `firestation` dataframe using `.shape`. `firestation` has 196 rows and 8 columns. "
   ]
  },
  {
   "cell_type": "code",
   "execution_count": 20,
   "metadata": {},
   "outputs": [
    {
     "data": {
      "text/plain": [
       "['slug',\n",
       " 'set',\n",
       " 'kind',\n",
       " 'external_i',\n",
       " 'name',\n",
       " 'display_na',\n",
       " 'STATID',\n",
       " 'geometry']"
      ]
     },
     "execution_count": 20,
     "metadata": {},
     "output_type": "execute_result"
    }
   ],
   "source": [
    "# what are the columns?\n",
    "firestation.columns.to_list()"
   ]
  },
  {
   "cell_type": "markdown",
   "metadata": {},
   "source": [
    "To find the names of the columns in the dataset in the form of a list, I used `firestation.columns.to_list()`. The column names are as above."
   ]
  },
  {
   "cell_type": "code",
   "execution_count": 21,
   "metadata": {},
   "outputs": [
    {
     "name": "stdout",
     "output_type": "stream",
     "text": [
      "<class 'geopandas.geodataframe.GeoDataFrame'>\n",
      "RangeIndex: 196 entries, 0 to 195\n",
      "Data columns (total 8 columns):\n",
      " #   Column      Non-Null Count  Dtype   \n",
      "---  ------      --------------  -----   \n",
      " 0   slug        196 non-null    object  \n",
      " 1   set         196 non-null    object  \n",
      " 2   kind        196 non-null    object  \n",
      " 3   external_i  196 non-null    object  \n",
      " 4   name        196 non-null    object  \n",
      " 5   display_na  196 non-null    object  \n",
      " 6   STATID      196 non-null    object  \n",
      " 7   geometry    196 non-null    geometry\n",
      "dtypes: geometry(1), object(7)\n",
      "memory usage: 12.4+ KB\n"
     ]
    }
   ],
   "source": [
    "# dataframe info? (data types and non-null count of each column)\n",
    "firestation.info()"
   ]
  },
  {
   "cell_type": "markdown",
   "metadata": {},
   "source": [
    "In the above chunk, I found out more info about the dataset using `.info()`. Doing so outputs the data types and non-null values count of each column. It also shows the data type of each column."
   ]
  },
  {
   "cell_type": "code",
   "execution_count": 22,
   "metadata": {},
   "outputs": [
    {
     "data": {
      "text/html": [
       "<div>\n",
       "<style scoped>\n",
       "    .dataframe tbody tr th:only-of-type {\n",
       "        vertical-align: middle;\n",
       "    }\n",
       "\n",
       "    .dataframe tbody tr th {\n",
       "        vertical-align: top;\n",
       "    }\n",
       "\n",
       "    .dataframe thead th {\n",
       "        text-align: right;\n",
       "    }\n",
       "</style>\n",
       "<table border=\"1\" class=\"dataframe\">\n",
       "  <thead>\n",
       "    <tr style=\"text-align: right;\">\n",
       "      <th></th>\n",
       "      <th>slug</th>\n",
       "      <th>set</th>\n",
       "      <th>kind</th>\n",
       "      <th>external_i</th>\n",
       "      <th>name</th>\n",
       "      <th>display_na</th>\n",
       "      <th>STATID</th>\n",
       "      <th>geometry</th>\n",
       "    </tr>\n",
       "  </thead>\n",
       "  <tbody>\n",
       "    <tr>\n",
       "      <th>0</th>\n",
       "      <td>la-county-fire-dept-station-area-001</td>\n",
       "      <td>L.A. County Fire Dept. Station Areas</td>\n",
       "      <td>L.A. County Fire Dept. Station Area</td>\n",
       "      <td>001</td>\n",
       "      <td>001</td>\n",
       "      <td>L.A. County Fire Dept. Station Area 001</td>\n",
       "      <td>001</td>\n",
       "      <td>POLYGON ((-118.15713 34.03711, -118.17639 34.0...</td>\n",
       "    </tr>\n",
       "    <tr>\n",
       "      <th>1</th>\n",
       "      <td>la-county-fire-dept-station-area-002</td>\n",
       "      <td>L.A. County Fire Dept. Station Areas</td>\n",
       "      <td>L.A. County Fire Dept. Station Area</td>\n",
       "      <td>002</td>\n",
       "      <td>002</td>\n",
       "      <td>L.A. County Fire Dept. Station Area 002</td>\n",
       "      <td>002</td>\n",
       "      <td>POLYGON ((-118.35058 33.79532, -118.35449 33.7...</td>\n",
       "    </tr>\n",
       "    <tr>\n",
       "      <th>2</th>\n",
       "      <td>la-county-fire-dept-station-area-003</td>\n",
       "      <td>L.A. County Fire Dept. Station Areas</td>\n",
       "      <td>L.A. County Fire Dept. Station Area</td>\n",
       "      <td>003</td>\n",
       "      <td>003</td>\n",
       "      <td>L.A. County Fire Dept. Station Area 003</td>\n",
       "      <td>003</td>\n",
       "      <td>POLYGON ((-118.15713 34.03711, -118.15698 34.0...</td>\n",
       "    </tr>\n",
       "    <tr>\n",
       "      <th>3</th>\n",
       "      <td>la-county-fire-dept-station-area-004</td>\n",
       "      <td>L.A. County Fire Dept. Station Areas</td>\n",
       "      <td>L.A. County Fire Dept. Station Area</td>\n",
       "      <td>004</td>\n",
       "      <td>004</td>\n",
       "      <td>L.A. County Fire Dept. Station Area 004</td>\n",
       "      <td>004</td>\n",
       "      <td>POLYGON ((-118.08704 34.07223, -118.07546 34.0...</td>\n",
       "    </tr>\n",
       "    <tr>\n",
       "      <th>4</th>\n",
       "      <td>la-county-fire-dept-station-area-005-2</td>\n",
       "      <td>L.A. County Fire Dept. Station Areas</td>\n",
       "      <td>L.A. County Fire Dept. Station Area</td>\n",
       "      <td>005</td>\n",
       "      <td>005</td>\n",
       "      <td>L.A. County Fire Dept. Station Area 005</td>\n",
       "      <td>005</td>\n",
       "      <td>POLYGON ((-118.05805 34.12185, -118.05894 34.1...</td>\n",
       "    </tr>\n",
       "  </tbody>\n",
       "</table>\n",
       "</div>"
      ],
      "text/plain": [
       "                                     slug  \\\n",
       "0    la-county-fire-dept-station-area-001   \n",
       "1    la-county-fire-dept-station-area-002   \n",
       "2    la-county-fire-dept-station-area-003   \n",
       "3    la-county-fire-dept-station-area-004   \n",
       "4  la-county-fire-dept-station-area-005-2   \n",
       "\n",
       "                                    set                                 kind  \\\n",
       "0  L.A. County Fire Dept. Station Areas  L.A. County Fire Dept. Station Area   \n",
       "1  L.A. County Fire Dept. Station Areas  L.A. County Fire Dept. Station Area   \n",
       "2  L.A. County Fire Dept. Station Areas  L.A. County Fire Dept. Station Area   \n",
       "3  L.A. County Fire Dept. Station Areas  L.A. County Fire Dept. Station Area   \n",
       "4  L.A. County Fire Dept. Station Areas  L.A. County Fire Dept. Station Area   \n",
       "\n",
       "  external_i name                               display_na STATID  \\\n",
       "0        001  001  L.A. County Fire Dept. Station Area 001    001   \n",
       "1        002  002  L.A. County Fire Dept. Station Area 002    002   \n",
       "2        003  003  L.A. County Fire Dept. Station Area 003    003   \n",
       "3        004  004  L.A. County Fire Dept. Station Area 004    004   \n",
       "4        005  005  L.A. County Fire Dept. Station Area 005    005   \n",
       "\n",
       "                                            geometry  \n",
       "0  POLYGON ((-118.15713 34.03711, -118.17639 34.0...  \n",
       "1  POLYGON ((-118.35058 33.79532, -118.35449 33.7...  \n",
       "2  POLYGON ((-118.15713 34.03711, -118.15698 34.0...  \n",
       "3  POLYGON ((-118.08704 34.07223, -118.07546 34.0...  \n",
       "4  POLYGON ((-118.05805 34.12185, -118.05894 34.1...  "
      ]
     },
     "execution_count": 22,
     "metadata": {},
     "output_type": "execute_result"
    }
   ],
   "source": [
    "# what does the data look like? \n",
    "firestation.head()"
   ]
  },
  {
   "cell_type": "markdown",
   "metadata": {},
   "source": [
    "Using `.head()` I am able to print out the first 5 rows of data so that I am able to gain a better understanding of the dataset. Above, I have printed out the first 5 rows of LA Fire Department Stations in the dataset."
   ]
  },
  {
   "cell_type": "markdown",
   "metadata": {},
   "source": [
    "### Initial plot"
   ]
  },
  {
   "cell_type": "code",
   "execution_count": 23,
   "metadata": {
    "scrolled": true
   },
   "outputs": [
    {
     "data": {
      "text/plain": [
       "<matplotlib.axes._subplots.AxesSubplot at 0x7f507dbc60a0>"
      ]
     },
     "execution_count": 23,
     "metadata": {},
     "output_type": "execute_result"
    },
    {
     "data": {
      "image/png": "[encoded data removed]",
      "text/plain": [
       "<Figure size 432x288 with 1 Axes>"
      ]
     },
     "metadata": {
      "needs_background": "light"
     },
     "output_type": "display_data"
    }
   ],
   "source": [
    "# Creating a simple plot of the shapefile data:\n",
    "firestation.plot()"
   ]
  },
  {
   "cell_type": "markdown",
   "metadata": {},
   "source": [
    "In the above chunk, `.plot()` is able to plot out the regions of the L.A. County Fire Dept. Station Areas due to the `geometry` column in the shapefile that I had imported under `firestation`."
   ]
  },
  {
   "cell_type": "code",
   "execution_count": 24,
   "metadata": {},
   "outputs": [
    {
     "data": {
      "text/plain": [
       "047    5\n",
       "031    4\n",
       "058    3\n",
       "007    3\n",
       "148    3\n",
       "      ..\n",
       "099    1\n",
       "151    1\n",
       "156    1\n",
       "051    1\n",
       "184    1\n",
       "Name: STATID, Length: 163, dtype: int64"
      ]
     },
     "execution_count": 24,
     "metadata": {},
     "output_type": "execute_result"
    }
   ],
   "source": [
    "# get a tally of the frequencies for a specified column using .value_counts()\n",
    "firestation['STATID'].value_counts()"
   ]
  },
  {
   "cell_type": "markdown",
   "metadata": {},
   "source": [
    "In the above chunk, I wanted to get the value counts of the `STATID` column with `.value_counts()`. The above code tallies up the frequency of the values in the `STATID` column."
   ]
  },
  {
   "cell_type": "markdown",
   "metadata": {},
   "source": [
    "### Query"
   ]
  },
  {
   "cell_type": "code",
   "execution_count": 25,
   "metadata": {},
   "outputs": [
    {
     "data": {
      "text/html": [
       "<div>\n",
       "<style scoped>\n",
       "    .dataframe tbody tr th:only-of-type {\n",
       "        vertical-align: middle;\n",
       "    }\n",
       "\n",
       "    .dataframe tbody tr th {\n",
       "        vertical-align: top;\n",
       "    }\n",
       "\n",
       "    .dataframe thead th {\n",
       "        text-align: right;\n",
       "    }\n",
       "</style>\n",
       "<table border=\"1\" class=\"dataframe\">\n",
       "  <thead>\n",
       "    <tr style=\"text-align: right;\">\n",
       "      <th></th>\n",
       "      <th>slug</th>\n",
       "      <th>set</th>\n",
       "      <th>kind</th>\n",
       "      <th>external_i</th>\n",
       "      <th>name</th>\n",
       "      <th>display_na</th>\n",
       "      <th>STATID</th>\n",
       "      <th>geometry</th>\n",
       "    </tr>\n",
       "  </thead>\n",
       "  <tbody>\n",
       "    <tr>\n",
       "      <th>53</th>\n",
       "      <td>la-county-fire-dept-station-area-047-2</td>\n",
       "      <td>L.A. County Fire Dept. Station Areas</td>\n",
       "      <td>L.A. County Fire Dept. Station Area</td>\n",
       "      <td>047</td>\n",
       "      <td>047</td>\n",
       "      <td>L.A. County Fire Dept. Station Area 047</td>\n",
       "      <td>047</td>\n",
       "      <td>POLYGON ((-118.08113 34.10239, -118.07940 34.1...</td>\n",
       "    </tr>\n",
       "    <tr>\n",
       "      <th>54</th>\n",
       "      <td>la-county-fire-dept-station-area-047-5</td>\n",
       "      <td>L.A. County Fire Dept. Station Areas</td>\n",
       "      <td>L.A. County Fire Dept. Station Area</td>\n",
       "      <td>047</td>\n",
       "      <td>047</td>\n",
       "      <td>L.A. County Fire Dept. Station Area 047</td>\n",
       "      <td>047</td>\n",
       "      <td>POLYGON ((-118.05805 34.12185, -118.05776 34.1...</td>\n",
       "    </tr>\n",
       "    <tr>\n",
       "      <th>55</th>\n",
       "      <td>la-county-fire-dept-station-area-047-4</td>\n",
       "      <td>L.A. County Fire Dept. Station Areas</td>\n",
       "      <td>L.A. County Fire Dept. Station Area</td>\n",
       "      <td>047</td>\n",
       "      <td>047</td>\n",
       "      <td>L.A. County Fire Dept. Station Area 047</td>\n",
       "      <td>047</td>\n",
       "      <td>POLYGON ((-118.08217 34.11353, -118.08225 34.1...</td>\n",
       "    </tr>\n",
       "    <tr>\n",
       "      <th>56</th>\n",
       "      <td>la-county-fire-dept-station-area-047-3</td>\n",
       "      <td>L.A. County Fire Dept. Station Areas</td>\n",
       "      <td>L.A. County Fire Dept. Station Area</td>\n",
       "      <td>047</td>\n",
       "      <td>047</td>\n",
       "      <td>L.A. County Fire Dept. Station Area 047</td>\n",
       "      <td>047</td>\n",
       "      <td>POLYGON ((-118.08230 34.10110, -118.08228 34.1...</td>\n",
       "    </tr>\n",
       "    <tr>\n",
       "      <th>57</th>\n",
       "      <td>la-county-fire-dept-station-area-047</td>\n",
       "      <td>L.A. County Fire Dept. Station Areas</td>\n",
       "      <td>L.A. County Fire Dept. Station Area</td>\n",
       "      <td>047</td>\n",
       "      <td>047</td>\n",
       "      <td>L.A. County Fire Dept. Station Area 047</td>\n",
       "      <td>047</td>\n",
       "      <td>POLYGON ((-118.08231 34.09364, -118.08701 34.0...</td>\n",
       "    </tr>\n",
       "  </tbody>\n",
       "</table>\n",
       "</div>"
      ],
      "text/plain": [
       "                                      slug  \\\n",
       "53  la-county-fire-dept-station-area-047-2   \n",
       "54  la-county-fire-dept-station-area-047-5   \n",
       "55  la-county-fire-dept-station-area-047-4   \n",
       "56  la-county-fire-dept-station-area-047-3   \n",
       "57    la-county-fire-dept-station-area-047   \n",
       "\n",
       "                                     set                                 kind  \\\n",
       "53  L.A. County Fire Dept. Station Areas  L.A. County Fire Dept. Station Area   \n",
       "54  L.A. County Fire Dept. Station Areas  L.A. County Fire Dept. Station Area   \n",
       "55  L.A. County Fire Dept. Station Areas  L.A. County Fire Dept. Station Area   \n",
       "56  L.A. County Fire Dept. Station Areas  L.A. County Fire Dept. Station Area   \n",
       "57  L.A. County Fire Dept. Station Areas  L.A. County Fire Dept. Station Area   \n",
       "\n",
       "   external_i name                               display_na STATID  \\\n",
       "53        047  047  L.A. County Fire Dept. Station Area 047    047   \n",
       "54        047  047  L.A. County Fire Dept. Station Area 047    047   \n",
       "55        047  047  L.A. County Fire Dept. Station Area 047    047   \n",
       "56        047  047  L.A. County Fire Dept. Station Area 047    047   \n",
       "57        047  047  L.A. County Fire Dept. Station Area 047    047   \n",
       "\n",
       "                                             geometry  \n",
       "53  POLYGON ((-118.08113 34.10239, -118.07940 34.1...  \n",
       "54  POLYGON ((-118.05805 34.12185, -118.05776 34.1...  \n",
       "55  POLYGON ((-118.08217 34.11353, -118.08225 34.1...  \n",
       "56  POLYGON ((-118.08230 34.10110, -118.08228 34.1...  \n",
       "57  POLYGON ((-118.08231 34.09364, -118.08701 34.0...  "
      ]
     },
     "execution_count": 25,
     "metadata": {},
     "output_type": "execute_result"
    }
   ],
   "source": [
    "# I will be querying with .query\n",
    "firestation.query(\"STATID == '047'\")"
   ]
  },
  {
   "cell_type": "markdown",
   "metadata": {},
   "source": [
    "In the above code chunk, I queried the rows that had a `STATID` value of '047'. According to my previous code chunk in which I found the frequencies of the values in the column, there should be 5 rows in this query output."
   ]
  }
 ],
 "metadata": {
  "kernelspec": {
   "display_name": "Python 3",
   "language": "python",
   "name": "python3"
  },
  "language_info": {
   "codemirror_mode": {
    "name": "ipython",
    "version": 3
   },
   "file_extension": ".py",
   "mimetype": "text/x-python",
   "name": "python",
   "nbconvert_exporter": "python",
   "pygments_lexer": "ipython3",
   "version": "3.8.5"
  },
  "toc": {
   "base_numbering": 1,
   "nav_menu": {},
   "number_sections": true,
   "sideBar": true,
   "skip_h1_title": false,
   "title_cell": "Table of Contents",
   "title_sidebar": "Contents",
   "toc_cell": false,
   "toc_position": {},
   "toc_section_display": true,
   "toc_window_display": false
  }
 },
 "nbformat": 4,
 "nbformat_minor": 4
}
